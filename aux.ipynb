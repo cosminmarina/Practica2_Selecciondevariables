{
 "cells": [
  {
   "cell_type": "code",
   "execution_count": 33,
   "metadata": {},
   "outputs": [],
   "source": [
    "import glob\n",
    "import pandas as pd\n",
    "import numpy as np"
   ]
  },
  {
   "cell_type": "code",
   "execution_count": 34,
   "metadata": {},
   "outputs": [],
   "source": [
    "path='./results/'\n",
    "method='recel'\n",
    "feat = 'feat3'\n",
    "files_interest = glob.glob(path+f'stats-{method}*{feat}-wt0.5*')\n",
    "list_interest = [pd.read_csv(df, header=0, index_col=0) for df in files_interest]"
   ]
  },
  {
   "cell_type": "code",
   "execution_count": 35,
   "metadata": {},
   "outputs": [
    {
     "name": "stdout",
     "output_type": "stream",
     "text": [
      "Prec: 0.95411 $\\pm$ 0.091523\n",
      " Rec: 0.93578 $\\pm$ 0.12864\n",
      " F1: 0.93333 $\\pm$ 0.099296\n"
     ]
    }
   ],
   "source": [
    "prec = np.mean([elem.T.get('Precision') for elem in list_interest])\n",
    "prec_std = np.std([elem.T.get('Precision') for elem in list_interest])\n",
    "rec_std = np.std([elem.T.get('Recall') for elem in list_interest])\n",
    "rec = np.mean([elem.T.get('Recall') for elem in list_interest])\n",
    "f_std = np.std([elem.T.get('Fscore') for elem in list_interest])\n",
    "f = np.mean([elem.T.get('Fscore') for elem in list_interest])\n",
    "print(f'Prec: {prec:.5} $\\pm$ {prec_std:.5}\\n Rec: {rec:.5} $\\pm$ {rec_std:.5}\\n F1: {f:.5} $\\pm$ {f_std:.5}')"
   ]
  },
  {
   "cell_type": "code",
   "execution_count": null,
   "metadata": {},
   "outputs": [],
   "source": []
  }
 ],
 "metadata": {
  "kernelspec": {
   "display_name": "MinDat",
   "language": "python",
   "name": "python3"
  },
  "language_info": {
   "codemirror_mode": {
    "name": "ipython",
    "version": 3
   },
   "file_extension": ".py",
   "mimetype": "text/x-python",
   "name": "python",
   "nbconvert_exporter": "python",
   "pygments_lexer": "ipython3",
   "version": "3.7.12 | packaged by conda-forge | (default, Oct 26 2021, 06:08:21) \n[GCC 9.4.0]"
  },
  "orig_nbformat": 4,
  "vscode": {
   "interpreter": {
    "hash": "c32776be2f58ae5fd1f2a44934afc81fb46d5a7b861a3c222f7695c4a9fab44d"
   }
  }
 },
 "nbformat": 4,
 "nbformat_minor": 2
}
